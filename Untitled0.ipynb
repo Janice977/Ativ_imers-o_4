{
  "cells": [
    {
      "cell_type": "markdown",
      "metadata": {
        "id": "view-in-github",
        "colab_type": "text"
      },
      "source": [
        "<a href=\"https://colab.research.google.com/github/Janice977/Ativ_imers-o_4/blob/main/Untitled0.ipynb\" target=\"_parent\"><img src=\"https://colab.research.google.com/assets/colab-badge.svg\" alt=\"Open In Colab\"/></a>"
      ]
    },
    {
      "cell_type": "markdown",
      "metadata": {
        "id": "uS1eLkKdefSp"
      },
      "source": []
    },
    {
      "cell_type": "code",
      "execution_count": 2,
      "metadata": {
        "colab": {
          "base_uri": "https://localhost:8080/"
        },
        "id": "zRbvGkPsi-JF",
        "outputId": "8b70b0a2-27f7-423f-93f1-965684647a34"
      },
      "outputs": [
        {
          "output_type": "stream",
          "name": "stdout",
          "text": [
            "Collecting python-chatbot\n",
            "  Downloading python_chatbot-0.0.10-py2.py3-none-any.whl (12 kB)\n",
            "Collecting service-identity (from python-chatbot)\n",
            "  Downloading service_identity-24.1.0-py3-none-any.whl (12 kB)\n",
            "Collecting twisted (from python-chatbot)\n",
            "  Downloading twisted-24.3.0-py3-none-any.whl (3.2 MB)\n",
            "\u001b[2K     \u001b[90m━━━━━━━━━━━━━━━━━━━━━━━━━━━━━━━━━━━━━━━━\u001b[0m \u001b[32m3.2/3.2 MB\u001b[0m \u001b[31m33.5 MB/s\u001b[0m eta \u001b[36m0:00:00\u001b[0m\n",
            "\u001b[?25hRequirement already satisfied: attrs>=19.1.0 in /usr/local/lib/python3.10/dist-packages (from service-identity->python-chatbot) (23.2.0)\n",
            "Requirement already satisfied: cryptography in /usr/local/lib/python3.10/dist-packages (from service-identity->python-chatbot) (42.0.7)\n",
            "Requirement already satisfied: pyasn1 in /usr/local/lib/python3.10/dist-packages (from service-identity->python-chatbot) (0.6.0)\n",
            "Requirement already satisfied: pyasn1-modules in /usr/local/lib/python3.10/dist-packages (from service-identity->python-chatbot) (0.4.0)\n",
            "Collecting automat>=0.8.0 (from twisted->python-chatbot)\n",
            "  Downloading Automat-22.10.0-py2.py3-none-any.whl (26 kB)\n",
            "Collecting constantly>=15.1 (from twisted->python-chatbot)\n",
            "  Downloading constantly-23.10.4-py3-none-any.whl (13 kB)\n",
            "Collecting hyperlink>=17.1.1 (from twisted->python-chatbot)\n",
            "  Downloading hyperlink-21.0.0-py2.py3-none-any.whl (74 kB)\n",
            "\u001b[2K     \u001b[90m━━━━━━━━━━━━━━━━━━━━━━━━━━━━━━━━━━━━━━━━\u001b[0m \u001b[32m74.6/74.6 kB\u001b[0m \u001b[31m8.1 MB/s\u001b[0m eta \u001b[36m0:00:00\u001b[0m\n",
            "\u001b[?25hCollecting incremental>=22.10.0 (from twisted->python-chatbot)\n",
            "  Downloading incremental-22.10.0-py2.py3-none-any.whl (16 kB)\n",
            "Requirement already satisfied: typing-extensions>=4.2.0 in /usr/local/lib/python3.10/dist-packages (from twisted->python-chatbot) (4.11.0)\n",
            "Collecting zope-interface>=5 (from twisted->python-chatbot)\n",
            "  Downloading zope.interface-6.3-cp310-cp310-manylinux_2_5_x86_64.manylinux1_x86_64.manylinux_2_17_x86_64.manylinux2014_x86_64.whl (247 kB)\n",
            "\u001b[2K     \u001b[90m━━━━━━━━━━━━━━━━━━━━━━━━━━━━━━━━━━━━━━━━\u001b[0m \u001b[32m247.3/247.3 kB\u001b[0m \u001b[31m22.0 MB/s\u001b[0m eta \u001b[36m0:00:00\u001b[0m\n",
            "\u001b[?25hRequirement already satisfied: six in /usr/local/lib/python3.10/dist-packages (from automat>=0.8.0->twisted->python-chatbot) (1.16.0)\n",
            "Requirement already satisfied: idna>=2.5 in /usr/local/lib/python3.10/dist-packages (from hyperlink>=17.1.1->twisted->python-chatbot) (3.7)\n",
            "Requirement already satisfied: setuptools in /usr/local/lib/python3.10/dist-packages (from zope-interface>=5->twisted->python-chatbot) (67.7.2)\n",
            "Requirement already satisfied: cffi>=1.12 in /usr/local/lib/python3.10/dist-packages (from cryptography->service-identity->python-chatbot) (1.16.0)\n",
            "Requirement already satisfied: pycparser in /usr/local/lib/python3.10/dist-packages (from cffi>=1.12->cryptography->service-identity->python-chatbot) (2.22)\n",
            "Installing collected packages: incremental, zope-interface, hyperlink, constantly, automat, twisted, service-identity, python-chatbot\n",
            "Successfully installed automat-22.10.0 constantly-23.10.4 hyperlink-21.0.0 incremental-22.10.0 python-chatbot-0.0.10 service-identity-24.1.0 twisted-24.3.0 zope-interface-6.3\n"
          ]
        }
      ],
      "source": [
        "\n",
        "!pip install python-chatbot\n",
        "import random\n",
        "\n",
        "#Lista de respostas de apoio\n",
        "respostas_apoio = [\n",
        "    \"Entendo, deve ter sido muito difícil. Se precisar de apoio emocional imedianto, você pode ligar para o centro de Valorização da Vida (CVV) no número 188.\",\n",
        "    \"Sinto muito por tudo que vc passou. Você pode encontrar ajuda em organizações como a Cruz Vermelha, que oferecem assistência em situações de desastre.\",\n",
        "    \"Eu estou aqui para ter ajudar de melhor maneira possível. Se precisar de recursos ou informações específicas, fique à vontade para perguntar.\",\n",
        "    \"Você não está sozinho/a. Podemos passar por isso juntos/as. Se precisar de assistência médica ou abrigo, Defesa Civil pode fornecer suporte.\",\n",
        "    \"Vamos conversar sobre isso. Como posso te ajudar? SE precisar assistência imediata, não hesite em chamar os serviços de emergência no número 193.\"\n",
        "    ]\n",
        "#Lista de informações de emergência simuladas\n",
        "informacoes_emergencia = {\n",
        "    \"abrigos\":[\n",
        "        \"Novo abrigo 1 - Rua F, 123\"\n",
        "        \"Novo abrigo 2 - Avenida G, 456\"\n",
        "    ],\n",
        "    \"assistência_médica\": \"Hospital XYZ - Rua H, 789\"\n",
        "}\n",
        "\n",
        "\n",
        "# Função para responder respostas de apoio aleatórias\n",
        "def resposta_apoio():\n",
        "  return random.choice(respostas_apoio)\n",
        "\n",
        "# Função para obter informações de emergência\n",
        "def obter_informacoes_emergencia():\n",
        "\n",
        "       # Interação com o usuário\n",
        "  print(\"Olá! Estou aqui para te ajudar. Se precisar de assistência imediata, ligue para os serviços de emergência no número 193.\")\n",
        "  print(\"Para obter informações de emergência, digite 'informacoes'.\")\n",
        "  print(\"Para sair, digite 'sair'.\")\n",
        "  while True:\n",
        "    user_input = input(\"Você:\").lower()\n",
        "    if user_input == 'sair':\n",
        "      print(\"Até logo! Se precisar, estarei por aqui.\")\n",
        "      break\n",
        "    elif user_input == 'informacoes':\n",
        "      informacoes = obter.informacoes_emergencia()\n",
        "      print(\"Aqui estão algumas informações de emergência:\")\n",
        "      print(\"Abrigos disponíveis:\")\n",
        "      for abrigo in informacoes['abrigos']:\n",
        "        print(\"-\" + abrigo)\n",
        "        print(\"Assistência médica disponível:\")\n",
        "        print(\"-\" + informacoes['assistencia_medica'])\n",
        "    else:\n",
        "      print(\"Bot:\",resposta_apoio())\n",
        "\n",
        "\n",
        "\n",
        "\n",
        "\n",
        "\n",
        "\n",
        "\n",
        "\n",
        "\n",
        "\n",
        "\n",
        "\n",
        "\n",
        "\n",
        "\n",
        "\n"
      ]
    }
  ],
  "metadata": {
    "colab": {
      "provenance": [],
      "authorship_tag": "ABX9TyPISqNQ4Ge0GXQaEGTfLZ01",
      "include_colab_link": true
    },
    "kernelspec": {
      "display_name": "Python 3",
      "name": "python3"
    },
    "language_info": {
      "name": "python"
    }
  },
  "nbformat": 4,
  "nbformat_minor": 0
}